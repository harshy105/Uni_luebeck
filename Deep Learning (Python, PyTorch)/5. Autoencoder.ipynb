{
  "cells": [
    {
      "cell_type": "code",
      "execution_count": null,
      "metadata": {
        "id": "g0dSzdreKsLf"
      },
      "outputs": [],
      "source": [
        "import torch\n",
        "import torchvision\n",
        "import torch.nn as nn\n",
        "import torch.nn.functional as F\n",
        "import torch.optim as optim\n",
        "import matplotlib.pyplot as plt\n",
        "import numpy as np\n",
        "import os\n",
        "import cv2\n",
        "from skimage.transform import resize\n",
        "from google.colab.patches import cv2_imshow\n",
        "from torch.nn.modules.loss import BCELoss\n",
        "from torch.utils.data import DataLoader\n",
        "\n",
        "torch.manual_seed(18)\n",
        "\n",
        "%matplotlib inline"
      ]
    },
    {
      "cell_type": "code",
      "execution_count": null,
      "metadata": {
        "colab": {
          "base_uri": "https://localhost:8080/"
        },
        "id": "JbqK7ipmxSIe",
        "outputId": "b33587b3-d116-4ff2-a511-119b903417d6"
      },
      "outputs": [
        {
          "name": "stdout",
          "output_type": "stream",
          "text": [
            "<module 'torch.version' from '/usr/local/lib/python3.7/dist-packages/torch/version.py'>\n",
            "True\n"
          ]
        }
      ],
      "source": [
        "print(torch.version)\n",
        "print(torch.cuda.is_available())"
      ]
    },
    {
      "cell_type": "code",
      "execution_count": null,
      "metadata": {
        "id": "81AO_9UAYUdk"
      },
      "outputs": [],
      "source": [
        "def rotate_image(image, tar_image, deg=None):\n",
        "    if deg is None:\n",
        "        deg = np.random.randint(0,90)\n",
        "    rows, cols = image.shape\n",
        "    M = cv2.getRotationMatrix2D((cols/2,rows/2), deg, 1)\n",
        "    image = cv2.warpAffine(image, M, (cols, rows))\n",
        "    tar_image = cv2.warpAffine(tar_image, M, (cols, rows))\n",
        "    return image, tar_image\n",
        "\n",
        "# def translation_image(image,x=None,y=None):\n",
        "#     if x is None:\n",
        "#         x = np.random.randint(0,50)\n",
        "#     if y is None:\n",
        "#         y = np.random.randint(0,50)\n",
        "#     rows, cols= image.shape\n",
        "#     M = np.float32([[1, 0, x], [0, 1, y]])\n",
        "#     image = cv2.warpAffine(image, M, (cols, rows))\n",
        "#     return"
      ]
    },
    {
      "cell_type": "code",
      "execution_count": null,
      "metadata": {
        "colab": {
          "base_uri": "https://localhost:8080/"
        },
        "id": "QOv6Hc7nLDof",
        "outputId": "c9027685-ff37-4a89-8f49-a738596e9d43"
      },
      "outputs": [
        {
          "name": "stdout",
          "output_type": "stream",
          "text": [
            "(9980, 192, 192)\n"
          ]
        }
      ],
      "source": [
        "success = True\n",
        "videofile = \"/content/animation.mp4\"\n",
        "vidcap = cv2.VideoCapture(videofile)\n",
        "success, tar_image = vidcap.read()\n",
        "# gray_img = cv2.cvtColor(image, cv2.COLOR_RGB2GRAY)\n",
        "# (thresh, blackAndWhiteImage) = cv2.threshold(gray_img, 127, 255, cv2.THRESH_BINARY)\n",
        "# blackAndWhiteImage = blackAndWhiteImage.astype(np.uint8)\n",
        "# print(gray_img.shape)\n",
        "# cv2_imshow(gray_img)\n",
        "# values = []\n",
        "# for i in range(200):\n",
        "#   for j in range(200):\n",
        "#     if int(gray_img[i,j]) > 0:\n",
        "#       values.append(gray_img[i,j])\n",
        "# print(values)\n",
        "# cv2_imshow(blackAndWhiteImage)\n",
        "# norm_img = cv2.normalize(blackAndWhiteImage, None, alpha=0, beta=1, norm_type=cv2.NORM_MINMAX, dtype=cv2.CV_32F)\n",
        "# cv2_imshow(rotate_image(blackAndWhiteImage))\n",
        "# cv2_imshow(translation_image(blackAndWhiteImage))\n",
        "\n",
        "\n",
        "images = []\n",
        "tar_images = []\n",
        "while success:\n",
        "    image = tar_image\n",
        "    success, tar_image = vidcap.read()                                 # reads next frame\n",
        "    \n",
        "    if success:\n",
        "      # Preprocessing\n",
        "      img = cv2.cvtColor(image, cv2.COLOR_RGB2GRAY)              # grayscale image\n",
        "      tar_img = cv2.cvtColor(tar_image, cv2.COLOR_RGB2GRAY)              # grayscale image\n",
        "      img = cv2.resize(img, (192,192))\n",
        "      tar_img = cv2.resize(tar_img, (192,192))\n",
        "      # (thresh, img) = cv2.threshold(img, 2, 255, cv2.THRESH_BINARY)  # black and white image\n",
        "      # (thresh, tar_img) = cv2.threshold(tar_img, 2, 255, cv2.THRESH_BINARY)  # black and white image\n",
        "      images.append(img)\n",
        "      tar_images.append(tar_img)\n",
        "      for _ in range(19):\n",
        "        rot_img, tar_rot_img = rotate_image(img, tar_img)\n",
        "        images.append(rot_img)\n",
        "        tar_images.append(tar_rot_img)\n",
        "\n",
        "images = np.array(images)\n",
        "tar_images = np.array(tar_images)\n",
        "print(images.shape)"
      ]
    },
    {
      "cell_type": "code",
      "execution_count": null,
      "metadata": {
        "colab": {
          "base_uri": "https://localhost:8080/",
          "height": 401
        },
        "id": "Gak0UgEsoreP",
        "outputId": "1233d6e6-3034-4f8e-d750-62a7d255f317"
      },
      "outputs": [
        {
          "data": {
            "image/png": "[encoded data removed]",
            "text/plain": [
              "<PIL.Image.Image image mode=L size=192x192 at 0x7F6C5EE12490>"
            ]
          },
          "metadata": {},
          "output_type": "display_data"
        },
        {
          "data": {
            "image/png": "[encoded data removed]",
            "text/plain": [
              "<PIL.Image.Image image mode=L size=192x192 at 0x7F6CEA790410>"
            ]
          },
          "metadata": {},
          "output_type": "display_data"
        }
      ],
      "source": [
        "idx = np.random.randint(9000)\n",
        "img = images[idx]\n",
        "tar_img = tar_images[idx]\n",
        "cv2_imshow(img)\n",
        "cv2_imshow(tar_img)"
      ]
    },
    {
      "cell_type": "code",
      "execution_count": null,
      "metadata": {
        "colab": {
          "base_uri": "https://localhost:8080/"
        },
        "id": "HbpwXBSqLLN7",
        "outputId": "0973b512-dec1-4f2c-fd90-b569fd07ae1e"
      },
      "outputs": [
        {
          "name": "stdout",
          "output_type": "stream",
          "text": [
            "torch.Size([9000, 192, 192])\n",
            "torch.Size([9000, 192, 192])\n",
            "torch.Size([980, 192, 192])\n",
            "torch.Size([980, 192, 192])\n"
          ]
        }
      ],
      "source": [
        "images_tensor = torch.tensor(images)\n",
        "tar_images_tensor = torch.tensor(tar_images)\n",
        "rand_idx = torch.randperm(images_tensor.shape[0])\n",
        "train_data = images_tensor[rand_idx[:9000]]\n",
        "train_label = tar_images_tensor[rand_idx[:9000]]\n",
        "test_data = images_tensor[rand_idx[9000:]]\n",
        "test_label = tar_images_tensor[rand_idx[9000:]]\n",
        "print(train_data.shape)\n",
        "print(train_label.shape)\n",
        "print(test_data.shape)\n",
        "print(test_label.shape)"
      ]
    },
    {
      "cell_type": "code",
      "execution_count": null,
      "metadata": {
        "id": "hemUC496U3YY"
      },
      "outputs": [],
      "source": [
        "# #decoder_block\n",
        "# def decoder_block(in_channels, out_channels, scale, use_relu=True):\n",
        "#     if use_relu:\n",
        "#         block = nn.Sequential(\n",
        "#             nn.Upsample(scale_factor=scale, mode='bilinear', align_corners=False),\n",
        "#             nn.Conv2d(in_channels, out_channels, kernel_size=3, padding=1),\n",
        "#             nn.PReLU(),\n",
        "#         )\n",
        "#     else:\n",
        "#          block = nn.Sequential(\n",
        "#             nn.Upsample(scale_factor=scale, mode='bilinear', align_corners=False),\n",
        "#             nn.Conv2d(in_channels, out_channels, kernel_size=3, padding=1),\n",
        "#         )\n",
        "#     return block"
      ]
    },
    {
      "cell_type": "code",
      "execution_count": null,
      "metadata": {
        "id": "dUtx0x9yCTzz"
      },
      "outputs": [],
      "source": [
        "class ResNetBlock(nn.Module):\n",
        "\n",
        "    def __init__(self, in_channels, out_channels, stride=2, kernel_size=3):\n",
        "        super(ResNetBlock, self).__init__()\n",
        "        self.residual_pass = nn.Sequential(nn.Conv2d(in_channels=in_channels, out_channels=out_channels, kernel_size=kernel_size,\n",
        "                                                    stride = 1, padding = 1, padding_mode='replicate'),\n",
        "                                nn.ReLU(),\n",
        "                                nn.Conv2d(in_channels=out_channels, out_channels=out_channels, kernel_size=kernel_size,\n",
        "                                                    stride = 1, padding = 1, padding_mode='replicate'), \n",
        "                               )\n",
        "        self.identity_mapping = nn.Sequential(nn.Conv2d(in_channels=in_channels, out_channels=out_channels, kernel_size=1,\n",
        "                                                    stride = 1),\n",
        "                               )\n",
        "        self.down_dimension = nn.Sequential(nn.Conv2d(in_channels=out_channels, out_channels=out_channels, kernel_size=2,\n",
        "                                                    stride = stride, padding = 0),\n",
        "                               )                  \n",
        "        self.RelU = nn.ReLU()\n",
        "        \n",
        "    def forward(self, x):\n",
        "        residual = self.residual_pass(x)\n",
        "        x = self.identity_mapping(x) \n",
        "        x += residual\n",
        "        x =  self.RelU(x)\n",
        "        x = self.down_dimension(x)\n",
        "        return x"
      ]
    },
    {
      "cell_type": "code",
      "execution_count": null,
      "metadata": {
        "id": "Yer5PtUiDDuj"
      },
      "outputs": [],
      "source": [
        "class AE(nn.Module):\n",
        "    def __init__(self):\n",
        "        super(AE, self).__init__()\n",
        "        self.fc= nn.Linear(128*3*3, 1024)\n",
        "        \n",
        "        self.encoder = nn.Sequential(\n",
        "            ResNetBlock(1, 16),\n",
        "            ResNetBlock(16, 32),\n",
        "            ResNetBlock(32, 64),\n",
        "            ResNetBlock(64, 128),\n",
        "            ResNetBlock(128, 128),\n",
        "            ResNetBlock(128, 128),\n",
        "        )\n",
        "        \n",
        "        self.decoder = nn.Sequential(\n",
        "            nn.ConvTranspose2d(1024, 256,  kernel_size=2, stride=2, output_padding=0),\n",
        "            nn.ReLU(),\n",
        "            nn.ConvTranspose2d(256, 128,  kernel_size=3, stride=2, output_padding=0),\n",
        "            nn.ReLU(),\n",
        "            nn.ConvTranspose2d(128, 128,  kernel_size=3, stride=2, output_padding=0),\n",
        "            nn.ReLU(),\n",
        "            nn.ConvTranspose2d(128, 64,  kernel_size=3, stride=2, output_padding=0),\n",
        "            nn.ReLU(),\n",
        "            nn.ConvTranspose2d(64, 32,  kernel_size=3, stride=2, output_padding=0),\n",
        "            nn.ReLU(),\n",
        "            nn.ConvTranspose2d(32, 16,  kernel_size=3, stride=2, output_padding=0),\n",
        "            nn.ReLU(),\n",
        "            nn.ConvTranspose2d(16, 1,  kernel_size=4, stride=2, output_padding=0),\n",
        "\n",
        "            # nn.ConvTranspose2d(512, 256, kernel_size=1),\n",
        "            # decoder_block(256, 128, scale=1),\n",
        "            # decoder_block(128, 64, scale=1),\n",
        "            # decoder_block(64, 32, scale=5),\n",
        "            # decoder_block(32, 1, scale=5, use_relu=False),\n",
        "        )\n",
        "\n",
        "    \n",
        "    def forward(self, x):\n",
        "        x = self.encoder(x)\n",
        "        # print(x.shape)\n",
        "        x = self.fc(x.view(-1,128*3*3))\n",
        "        x = x.unsqueeze(2)\n",
        "        x = x.unsqueeze(3)\n",
        "        # print(x.shape)\n",
        "        x = self.decoder(x) \n",
        "        # print(x.shape) \n",
        "        x = torch.sigmoid(x)\n",
        "        return x\n",
        "\n",
        "def countParameters(model):\n",
        "    model_parameters = filter(lambda p: p.requires_grad, model.parameters())\n",
        "    params = sum([np.prod(p.size()) for p in model_parameters])\n",
        "    return params"
      ]
    },
    {
      "cell_type": "code",
      "execution_count": null,
      "metadata": {
        "colab": {
          "base_uri": "https://localhost:8080/"
        },
        "id": "1KUoXySiZD0f",
        "outputId": "eff15d70-1511-4f26-d5e5-fb630c257aed"
      },
      "outputs": [
        {
          "name": "stdout",
          "output_type": "stream",
          "text": [
            "3915473 1146208 1588593\n",
            "torch.Size([32, 1, 192, 192]) tensor(0.8784, device='cuda:0') tensor(0., device='cuda:0')\n",
            "torch.Size([32, 1, 192, 192]) tensor(0.5335, device='cuda:0', grad_fn=<MaxBackward1>) tensor(0.5047, device='cuda:0', grad_fn=<MinBackward1>)\n"
          ]
        }
      ],
      "source": [
        "# model\n",
        "model = AE()\n",
        "print(countParameters(model), countParameters(model.encoder), countParameters(model.decoder))\n",
        "model = model.cuda()\n",
        "\n",
        "#test run\n",
        "input = train_data[:32].unsqueeze(1)\n",
        "input = input / 255\n",
        "input = input.cuda()\n",
        "print(input.shape, input.max(), input.min())\n",
        "output = model(input) \n",
        "print(output.shape, output.max(), output.min())"
      ]
    },
    {
      "cell_type": "code",
      "execution_count": null,
      "metadata": {
        "colab": {
          "base_uri": "https://localhost:8080/",
          "height": 1000
        },
        "id": "No7z_1qR4izt",
        "outputId": "0c568ec4-6a29-46b9-9e90-c143d5c503ef"
      },
      "outputs": [],
      "source": [
        "# parameters\n",
        "batch_size = 32\n",
        "num_epochs = 1000\n",
        "\n",
        "# optimizer\n",
        "optimizer = torch.optim.Adam(list(model.parameters()), lr=0.001)\n",
        "\n",
        "# learning rate scheduler\n",
        "lr_scheduler = torch.optim.lr_scheduler.ExponentialLR(optimizer, 0.99)\n",
        "\n",
        "# criterion\n",
        "criterion = nn.BCELoss()\n",
        "\n",
        "# statistics\n",
        "losses_train = []\n",
        "losses_test = []\n",
        "\n",
        "# for num_epochs\n",
        "for epoch in range(num_epochs):\n",
        "  \n",
        "    # train mode\n",
        "    model.train()\n",
        "    \n",
        "    # random mini-batches\n",
        "    batch_train = torch.randperm(train_data.shape[0])\n",
        "    batch_train = batch_train[(batch_train.numel() % batch_size):]\n",
        "    batch_train = batch_train.view(-1, batch_size)\n",
        "    \n",
        "    # statistics\n",
        "    running_loss = 0.0\n",
        "    \n",
        "    # for each mini-batch\n",
        "    for i in range(batch_train.size(0)):\n",
        "        \n",
        "        # mini-batch\n",
        "        input = train_data[batch_train[i], :].unsqueeze(1)\n",
        "        input = input/255\n",
        "        input = input.cuda()\n",
        "\n",
        "        label = train_label[batch_train[i], :].unsqueeze(1)\n",
        "        label = label/255\n",
        "        label = label.cuda()\n",
        "        \n",
        "        # zero the parameter gradients\n",
        "        optimizer.zero_grad()\n",
        "        \n",
        "        # forward + backward + optimize\n",
        "        output = model(input)\n",
        "        # print(output.max(), output.min(), input.max(), input.min())\n",
        "        # print(output.shape, input.shape)\n",
        "        loss = criterion(output, label)\n",
        "        loss.backward()\n",
        "        optimizer.step()\n",
        "        \n",
        "        # statistics\n",
        "        running_loss += loss.item()\n",
        "    \n",
        "    running_loss /= batch_train.size(0)\n",
        "    \n",
        "    losses_train.append(running_loss)\n",
        "    \n",
        "    # update learning rate\n",
        "    lr_scheduler.step()\n",
        "    \n",
        "    # output\n",
        "    print('Epoch {} (train) -- loss: {:.8f}'.format(epoch, running_loss))\n",
        "    \n",
        "    # validate\n",
        "    with torch.no_grad():\n",
        "      \n",
        "        # eval mode\n",
        "        model.eval()\n",
        "\n",
        "        # random mini-batches\n",
        "        batch_valid = torch.randperm(test_data.shape[0])\n",
        "        batch_valid = batch_valid[(batch_valid.numel() % batch_size):]\n",
        "        batch_valid = batch_valid.view(-1, batch_size)\n",
        "\n",
        "        # statistics\n",
        "        running_loss = 0.0\n",
        "        \n",
        "        # for each mini-batch\n",
        "        for i in range(batch_valid.size(0)):\n",
        "\n",
        "            # mini-batch\n",
        "            input = test_data[batch_valid[i], :].unsqueeze(1)\n",
        "            input = input/255\n",
        "            input = input.cuda()\n",
        "\n",
        "            label = test_label[batch_valid[i], :].unsqueeze(1)\n",
        "            label = label/255\n",
        "            label = label.cuda()\n",
        "\n",
        "            # forward\n",
        "            output = model(input)\n",
        "            loss = criterion(output, label)\n",
        "\n",
        "            # statistics\n",
        "            running_loss += loss.item()\n",
        "\n",
        "        running_loss /= batch_valid.size(0)\n",
        "\n",
        "        losses_test.append(running_loss)\n",
        "\n",
        "        # output\n",
        "        print('Epoch {} (test) -- loss: {:.8f}'.format(epoch, running_loss))\n",
        "        input = input.squeeze(1).squeeze(1)[0].cpu().detach()*255\n",
        "        # label = label.squeeze(1).squeeze(1)[0].cpu().detach()*255\n",
        "        output = output.squeeze(1).squeeze(1)[0].cpu().detach()*255\n",
        "        cv2_imshow(np.array(input,dtype=np.uint8))\n",
        "        # cv2_imshow(np.array(label,dtype=np.uint8))\n",
        "        cv2_imshow(np.array(output,dtype=np.uint8))\n",
        "        \n",
        "    # plt.close()\n",
        "    # plt.subplot(1,2,1)\n",
        "    # plt.plot(losses_train)\n",
        "    # plt.title(\"traning loss\")\n",
        "    # plt.subplot(1,2,2)\n",
        "    # plt.plot(losses_test)\n",
        "    # plt.title(\"test loss\")\n",
        "    # plt.show()"
      ]
    }
  ],
  "metadata": {
    "accelerator": "GPU",
    "colab": {
      "collapsed_sections": [],
      "machine_shape": "hm",
      "provenance": []
    },
    "gpuClass": "standard",
    "kernelspec": {
      "display_name": "Python 3",
      "name": "python3"
    },
    "language_info": {
      "name": "python"
    }
  },
  "nbformat": 4,
  "nbformat_minor": 0
}
